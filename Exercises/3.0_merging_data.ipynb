{
 "cells": [
  {
   "cell_type": "markdown",
   "metadata": {},
   "source": [
    "# 3.0 Merging data"
   ]
  },
  {
   "cell_type": "markdown",
   "metadata": {},
   "source": [
    "## 1.0 Swedish demographic data"
   ]
  },
  {
   "cell_type": "code",
   "execution_count": 32,
   "metadata": {},
   "outputs": [
    {
     "data": {
      "text/html": [
       "<div>\n",
       "<style scoped>\n",
       "    .dataframe tbody tr th:only-of-type {\n",
       "        vertical-align: middle;\n",
       "    }\n",
       "\n",
       "    .dataframe tbody tr th {\n",
       "        vertical-align: top;\n",
       "    }\n",
       "\n",
       "    .dataframe thead th {\n",
       "        text-align: right;\n",
       "    }\n",
       "</style>\n",
       "<table border=\"1\" class=\"dataframe\">\n",
       "  <thead>\n",
       "    <tr style=\"text-align: right;\">\n",
       "      <th></th>\n",
       "      <th>Unnamed: 0</th>\n",
       "      <th>Folkmängd</th>\n",
       "      <th>Födda</th>\n",
       "      <th>Döda</th>\n",
       "      <th>Befolkningsförändringar</th>\n",
       "      <th>Nativiteten (per 1000)</th>\n",
       "      <th>Dödstalen (per 1000)</th>\n",
       "      <th>Befolkningsförändringar (per 1000)</th>\n",
       "      <th>Total fertilitet</th>\n",
       "    </tr>\n",
       "  </thead>\n",
       "  <tbody>\n",
       "    <tr>\n",
       "      <th>0</th>\n",
       "      <td>1900</td>\n",
       "      <td>5 117 000</td>\n",
       "      <td>138 139</td>\n",
       "      <td>86 146</td>\n",
       "      <td>51 993</td>\n",
       "      <td>270</td>\n",
       "      <td>168</td>\n",
       "      <td>102</td>\n",
       "      <td>402</td>\n",
       "    </tr>\n",
       "    <tr>\n",
       "      <th>1</th>\n",
       "      <td>1901</td>\n",
       "      <td>5 156 000</td>\n",
       "      <td>139 370</td>\n",
       "      <td>82 772</td>\n",
       "      <td>56 598</td>\n",
       "      <td>270</td>\n",
       "      <td>161</td>\n",
       "      <td>110</td>\n",
       "      <td>404</td>\n",
       "    </tr>\n",
       "    <tr>\n",
       "      <th>2</th>\n",
       "      <td>1902</td>\n",
       "      <td>5 187 000</td>\n",
       "      <td>137 364</td>\n",
       "      <td>79 722</td>\n",
       "      <td>57 642</td>\n",
       "      <td>265</td>\n",
       "      <td>154</td>\n",
       "      <td>111</td>\n",
       "      <td>395</td>\n",
       "    </tr>\n",
       "    <tr>\n",
       "      <th>3</th>\n",
       "      <td>1903</td>\n",
       "      <td>5 210 000</td>\n",
       "      <td>133 896</td>\n",
       "      <td>78 610</td>\n",
       "      <td>55 286</td>\n",
       "      <td>257</td>\n",
       "      <td>151</td>\n",
       "      <td>106</td>\n",
       "      <td>382</td>\n",
       "    </tr>\n",
       "    <tr>\n",
       "      <th>4</th>\n",
       "      <td>1904</td>\n",
       "      <td>5 241 000</td>\n",
       "      <td>134 952</td>\n",
       "      <td>80 152</td>\n",
       "      <td>54 800</td>\n",
       "      <td>257</td>\n",
       "      <td>153</td>\n",
       "      <td>105</td>\n",
       "      <td>383</td>\n",
       "    </tr>\n",
       "  </tbody>\n",
       "</table>\n",
       "</div>"
      ],
      "text/plain": [
       "   Unnamed: 0  Folkmängd    Födda    Döda Befolkningsförändringar  \\\n",
       "0        1900  5 117 000  138 139  86 146                  51 993   \n",
       "1        1901  5 156 000  139 370  82 772                  56 598   \n",
       "2        1902  5 187 000  137 364  79 722                  57 642   \n",
       "3        1903  5 210 000  133 896  78 610                  55 286   \n",
       "4        1904  5 241 000  134 952  80 152                  54 800   \n",
       "\n",
       "   Nativiteten (per 1000)  Dödstalen (per 1000)  \\\n",
       "0                     270                   168   \n",
       "1                     270                   161   \n",
       "2                     265                   154   \n",
       "3                     257                   151   \n",
       "4                     257                   153   \n",
       "\n",
       "   Befolkningsförändringar (per 1000)  Total fertilitet  \n",
       "0                                 102               402  \n",
       "1                                 110               404  \n",
       "2                                 111               395  \n",
       "3                                 106               382  \n",
       "4                                 105               383  "
      ]
     },
     "execution_count": 32,
     "metadata": {},
     "output_type": "execute_result"
    }
   ],
   "source": [
    "import pandas as pd\n",
    "import seaborn as sns\n",
    "swedish_link = \"https://sv.wikipedia.org/wiki/Sveriges_demografi\"\n",
    "\n",
    "swedish_DataFram = pd.read_html(swedish_link)\n",
    "\n",
    "swedish_DataFram = swedish_DataFram[5]\n",
    "swedish_DataFram.head()"
   ]
  }
 ],
 "metadata": {
  "interpreter": {
   "hash": "d202e19925d324d789509f85a925160f99b20e93f733937fa1263122beace207"
  },
  "kernelspec": {
   "display_name": "Python 3.9.6 64-bit ('Databehandling-Fabian-Andersson-IEdN34wO': pipenv)",
   "name": "python3"
  },
  "language_info": {
   "codemirror_mode": {
    "name": "ipython",
    "version": 3
   },
   "file_extension": ".py",
   "mimetype": "text/x-python",
   "name": "python",
   "nbconvert_exporter": "python",
   "pygments_lexer": "ipython3",
   "version": "3.9.6"
  },
  "orig_nbformat": 4
 },
 "nbformat": 4,
 "nbformat_minor": 2
}
