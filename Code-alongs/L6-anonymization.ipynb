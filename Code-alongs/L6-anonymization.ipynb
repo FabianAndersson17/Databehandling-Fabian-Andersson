{
 "cells": [
  {
   "cell_type": "markdown",
   "metadata": {},
   "source": [
    "# Anonymization with hash"
   ]
  },
  {
   "cell_type": "code",
   "execution_count": 27,
   "metadata": {},
   "outputs": [
    {
     "name": "stdout",
     "output_type": "stream",
     "text": [
      "b'gore_bord@gmail.com'\n",
      "secret hash: 7d6d9a849ccc7f5febe065ebe3b4f39558fc96ef865e02333dd7b7426ff0c057\n",
      "secret hash same:7d6d9a849ccc7f5febe065ebe3b4f39558fc96ef865e02333dd7b7426ff0c057\n",
      "secret hash Two: 0290afd54f254c13b9b8c0d6037e4aaf26c65bb025b1815f2ef8a81f3042d7dc\n",
      "True\n",
      "False\n"
     ]
    }
   ],
   "source": [
    "import hashlib as hl\n",
    "\n",
    "secret = \"gore_bord@gmail.com\".encode()\n",
    "secret2 = \"gore_bord1@gmail.com\".encode()\n",
    "print(secret)\n",
    "secret_hash = hl.sha256(secret).hexdigest()\n",
    "secret_hash2 = hl.sha256(secret2).hexdigest()\n",
    "print(f\"secret hash: {secret_hash}\")\n",
    "secret_hash_same = hl.sha256(\"gore_bord@gmail.com\".encode()).hexdigest()\n",
    "print(f\"secret hash same:{secret_hash_same}\")\n",
    "print(f\"secret hash Two: {secret_hash2}\")\n",
    "print(secret_hash_same == secret_hash)\n",
    "print(secret_hash == secret_hash2)\n"
   ]
  },
  {
   "cell_type": "markdown",
   "metadata": {},
   "source": [
    "## Exemple with pandas"
   ]
  },
  {
   "cell_type": "code",
   "execution_count": null,
   "metadata": {},
   "outputs": [],
   "source": [
    "import pandas as pd\n"
   ]
  }
 ],
 "metadata": {
  "interpreter": {
   "hash": "d202e19925d324d789509f85a925160f99b20e93f733937fa1263122beace207"
  },
  "kernelspec": {
   "display_name": "Python 3.9.6 64-bit ('Databehandling-Fabian-Andersson-IEdN34wO': pipenv)",
   "name": "python3"
  },
  "language_info": {
   "codemirror_mode": {
    "name": "ipython",
    "version": 3
   },
   "file_extension": ".py",
   "mimetype": "text/x-python",
   "name": "python",
   "nbconvert_exporter": "python",
   "pygments_lexer": "ipython3",
   "version": "3.9.6"
  },
  "orig_nbformat": 4
 },
 "nbformat": 4,
 "nbformat_minor": 2
}
